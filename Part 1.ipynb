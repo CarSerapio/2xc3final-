{
 "cells": [
  {
   "cell_type": "markdown",
   "id": "9dd14fbe",
   "metadata": {},
   "source": [
    "**Part 1.1**: In this part you will implement variation of Dijkstra’s algorithm. It is a popular shortest path algorithm where the current known shortest path to each node is updated once new path is identified. This updating is called relaxing and in a graph with 𝑛 nodes it can occur at most 𝑛 − 1 times. In this part implement a function dijkstra (graph, source, k) which takes the graph and source as an input and where\n",
    "each node can be relaxed on only k times where, 0 < 𝑘 < 𝑁 − 1. This function returns a distance and path dictionary which maps a node (which is an integer) to the distance and the path (sequence of nodes)."
   ]
  },
  {
   "cell_type": "code",
   "execution_count": 53,
   "id": "1b134986",
   "metadata": {},
   "outputs": [],
   "source": [
    "import random"
   ]
  },
  {
   "cell_type": "code",
   "execution_count": 1,
   "id": "0e609b70",
   "metadata": {},
   "outputs": [],
   "source": [
    "# weighted digraph \n",
    "class DWG:\n",
    "\n",
    "    def __init__(self):\n",
    "        self.adj = {}\n",
    "        self.weights = {}\n",
    "\n",
    "    def are_connected(self, node1, node2):\n",
    "        for neighbour in self.adj[node1]:\n",
    "            if neighbour == node2:\n",
    "                return True\n",
    "        return False\n",
    "\n",
    "    def adjacent_nodes(self, node):\n",
    "        return self.adj[node]\n",
    "\n",
    "    def add_node(self, node):\n",
    "        self.adj[node] = []\n",
    "\n",
    "    def add_edge(self, node1, node2, weight):\n",
    "        if node2 not in self.adj[node1]:\n",
    "            self.adj[node1].append(node2)\n",
    "        self.weights[(node1, node2)] = weight\n",
    "\n",
    "    def w(self, node1, node2):\n",
    "        if self.are_connected(node1, node2):\n",
    "            return self.weights[(node1, node2)]\n",
    "\n",
    "    def num_nodes(self):\n",
    "        return len(self.adj)"
   ]
  },
  {
   "cell_type": "code",
   "execution_count": 2,
   "id": "97693377",
   "metadata": {},
   "outputs": [],
   "source": [
    "# min pq necessary for djisktra's \n",
    "class Item:\n",
    "    def __init__(self, value, key):\n",
    "        self.value = value\n",
    "        self.key = key\n",
    "\n",
    "class MinHeap:\n",
    "    def __init__(self, elements):\n",
    "        self.heap = elements\n",
    "        self.positions = {element.value: i for i, element in enumerate(elements)}\n",
    "        self.size = len(elements)\n",
    "        self.build_heap()\n",
    "\n",
    "    def parent(self, i):\n",
    "        return (i - 1) // 2\n",
    "\n",
    "    def left(self, i):\n",
    "        return 2 * i + 1\n",
    "\n",
    "    def right(self, i):\n",
    "        return 2 * i + 2\n",
    "\n",
    "    def swap(self, i, j):\n",
    "        self.heap[i], self.heap[j] = self.heap[j], self.heap[i]\n",
    "        self.positions[self.heap[i].value], self.positions[self.heap[j].value] = i, j\n",
    "\n",
    "    def min_heapify(self, i):\n",
    "        l = self.left(i)\n",
    "        r = self.right(i)\n",
    "        smallest = i\n",
    "        if l < self.size and self.heap[l].key < self.heap[i].key:\n",
    "            smallest = l\n",
    "        if r < self.size and self.heap[r].key < self.heap[smallest].key:\n",
    "            smallest = r\n",
    "        if smallest != i:\n",
    "            self.swap(i, smallest)\n",
    "            self.min_heapify(smallest)\n",
    "\n",
    "    def build_heap(self):\n",
    "        for i in range(self.size // 2, -1, -1):\n",
    "            self.min_heapify(i)\n",
    "\n",
    "    def extract_min(self):\n",
    "        min_element = self.heap[0]\n",
    "        self.size -= 1\n",
    "        self.heap[0] = self.heap[self.size]\n",
    "        self.positions[self.heap[0].value] = 0\n",
    "        self.heap.pop()\n",
    "        self.min_heapify(0)\n",
    "        return min_element\n",
    "\n",
    "    def decrease_key(self, value, new_key):\n",
    "        i = self.positions[value]\n",
    "        if new_key < self.heap[i].key:\n",
    "            self.heap[i].key = new_key\n",
    "            while i > 0 and self.heap[self.parent(i)].key > self.heap[i].key:\n",
    "                self.swap(i, self.parent(i))\n",
    "                i = self.parent(i)\n",
    "\n",
    "    def insert(self, element):\n",
    "        self.size += 1\n",
    "        self.heap.append(element)\n",
    "        self.positions[element.value] = self.size - 1\n",
    "        self.decrease_key(element.value, element.key)\n",
    "\n",
    "    def is_empty(self):\n",
    "        return self.size == 0"
   ]
  },
  {
   "cell_type": "code",
   "execution_count": 41,
   "id": "9ad8a02d",
   "metadata": {},
   "outputs": [],
   "source": [
    "def dijkstra(g, source, k):\n",
    "    paths = {source: [source]} \n",
    "    dist = {} \n",
    "    nodes = list(g.adj.keys())\n",
    "    relax_count = {} \n",
    "        \n",
    "    Q = MinHeap([])\n",
    "    \n",
    "    for i in g.adj.keys(): \n",
    "        relax_count[i] = 0 \n",
    "        \n",
    "    for node in nodes:\n",
    "        Q.insert(Item(node, float(\"inf\")))\n",
    "        dist[node] = float(\"inf\")\n",
    "        \n",
    "    Q.decrease_key(source, 0)\n",
    "    \n",
    "    while not Q.is_empty(): \n",
    "        current_element = Q.extract_min() \n",
    "        current_node = current_element.value\n",
    "        dist[current_node] = current_element.key \n",
    "        for neighbour in g.adj[current_node]:\n",
    "            if dist[current_node] + g.w(current_node, neighbour) < dist[neighbour] and relax_count[neighbour] < k:\n",
    "                Q.decrease_key(neighbour, dist[current_node] + g.w(current_node, neighbour))\n",
    "                dist[neighbour] = dist[current_node] + g.w(current_node, neighbour)\n",
    "                paths[neighbour] = paths.get(current_node, []) + [neighbour]\n",
    "                relax_count[neighbour] += 1 \n",
    "                \n",
    "    return dist, relax_count, paths"
   ]
  },
  {
   "cell_type": "code",
   "execution_count": 42,
   "id": "71b18109",
   "metadata": {},
   "outputs": [],
   "source": [
    "g = DWG() \n",
    "g.add_node(0)\n",
    "g.add_node(1)\n",
    "g.add_node(2)\n",
    "g.add_node(3) \n",
    "g.add_edge(0, 1, 4)\n",
    "g.add_edge(0, 2, 3)\n",
    "g.add_edge(1, 2, 1)\n",
    "g.add_edge(1, 3, 2)\n",
    "g.add_edge(2, 3, 5)"
   ]
  },
  {
   "cell_type": "code",
   "execution_count": 45,
   "id": "9ba09b04",
   "metadata": {},
   "outputs": [
    {
     "name": "stdout",
     "output_type": "stream",
     "text": [
      "{0: 0, 1: 4, 2: 3, 3: 6}\n",
      "{0: 0, 1: 1, 2: 1, 3: 2}\n",
      "{0: [0], 1: [0, 1], 2: [0, 2], 3: [0, 1, 3]}\n"
     ]
    }
   ],
   "source": [
    "source_node = 0\n",
    "k = 2 # Relax each nodes k = 2 times\n",
    "distances, relax_count, paths = dijkstra(g, source_node, k)\n",
    "print(distances)\n",
    "print(relax_count)\n",
    "print(paths) "
   ]
  },
  {
   "cell_type": "markdown",
   "id": "298181a4",
   "metadata": {},
   "source": [
    "**Part 1.2**: Consider the same restriction as previous and implement a variation of Bellman Ford’s algorithm. This means implement a function bellman_ford(graph, source, k) which take the graph and source as an input and finds the path where each node can be relaxed only k times, where, 0 < 𝑘 < 𝑁 − 1. This function also returns a distance and path dictionary which maps a node (which is an integer) to the distance and the path (sequence of nodes)."
   ]
  },
  {
   "cell_type": "code",
   "execution_count": 46,
   "id": "f09c3014",
   "metadata": {},
   "outputs": [],
   "source": [
    "def bf(g, source, k): \n",
    "    paths = {source: [source]} \n",
    "    dist = {} \n",
    "    nodes = list(g.adj.keys())\n",
    "    relax_count = {} \n",
    "    \n",
    "    for i in g.adj.keys(): \n",
    "        relax_count[i] = 0 \n",
    "    \n",
    "    for node in nodes: \n",
    "        dist[node] = float(\"inf\")\n",
    "        \n",
    "    dist[source] = 0 \n",
    "    \n",
    "    for _ in range(g.num_nodes() - 1):\n",
    "        for node in nodes: \n",
    "            for neighbour in g.adj[node]: \n",
    "                if relax_count[neighbour] < k and dist[neighbour] > dist[node] + g.w(node,neighbour):\n",
    "                    dist[neighbour] = dist[node] + g.w(node,neighbour) \n",
    "                    paths[neighbour] = paths.get(node, []) + [neighbour]\n",
    "                    relax_count[neighbour] += 1\n",
    "                                        \n",
    "    return dist, relax_count, paths"
   ]
  },
  {
   "cell_type": "code",
   "execution_count": 50,
   "id": "2d491c74",
   "metadata": {},
   "outputs": [
    {
     "name": "stdout",
     "output_type": "stream",
     "text": [
      "{0: 0, 1: 4, 2: 3, 3: 6}\n",
      "{0: [0], 1: [0, 1], 2: [0, 2], 3: [0, 1, 3]}\n",
      "{0: 0, 1: 1, 2: 1, 3: 1}\n"
     ]
    }
   ],
   "source": [
    "g1 = DWG() \n",
    "g1.add_node(0)\n",
    "g1.add_node(1)\n",
    "g1.add_node(2)\n",
    "g1.add_node(3) \n",
    "g1.add_edge(0, 1, 4)\n",
    "g1.add_edge(0, 2, 3)\n",
    "g1.add_edge(1, 2, 1)\n",
    "g1.add_edge(1, 3, 2)\n",
    "g1.add_edge(2, 3, 5)\n",
    "\n",
    "source_node = 0\n",
    "k = 1  # Relax each nodes k = 1 times\n",
    "distances, relax_count, paths = bf(g1, source_node, k)\n",
    "print(distances)\n",
    "print(paths) \n",
    "print(relax_count)"
   ]
  },
  {
   "cell_type": "markdown",
   "id": "27a66eb6",
   "metadata": {},
   "source": [
    "**Part 1.3**: Design an experiment to analyze the performance of functions written in Part 1.1 and 1.2. You should consider factors like graph size, graph density and value of k, that impact the algorithm performance in terms of its accuracy, time and space complexity."
   ]
  },
  {
   "cell_type": "markdown",
   "id": "200455e7",
   "metadata": {},
   "source": [
    "The proposed experiment will examine how many relaxations per node (k values) are needed to acquire a shortest path for both algorithms for both a graph. By comparing the number of relaxations per node for Dijkstra's and Bellman-Ford's variations, we can assess which algorithm performs better in terms of efficiency. Lower average relaxations per node indicate better performance as it implies fewer iterations needed to find the shortest paths. "
   ]
  },
  {
   "cell_type": "markdown",
   "id": "d3536ebe",
   "metadata": {},
   "source": [
    "First, we will find the shortest path of a large graph using a normal Dijkstra's algorithm with no relaxation limits. "
   ]
  },
  {
   "cell_type": "code",
   "execution_count": 65,
   "id": "e8543cef",
   "metadata": {},
   "outputs": [],
   "source": [
    "def dijkstra_nolimit(g, source):\n",
    "    paths = {source: [source]} \n",
    "    dist = {} \n",
    "    nodes = list(g.adj.keys())\n",
    "        \n",
    "    Q = MinHeap([])\n",
    "    \n",
    "    for i in g.adj.keys(): \n",
    "        relax_count[i] = 0 \n",
    "        \n",
    "    for node in nodes:\n",
    "        Q.insert(Item(node, float(\"inf\")))\n",
    "        dist[node] = float(\"inf\")\n",
    "        \n",
    "    Q.decrease_key(source, 0)\n",
    "    \n",
    "    while not Q.is_empty(): \n",
    "        current_element = Q.extract_min() \n",
    "        current_node = current_element.value\n",
    "        dist[current_node] = current_element.key \n",
    "        for neighbour in g.adj[current_node]:\n",
    "            if dist[current_node] + g.w(current_node, neighbour) < dist[neighbour]:\n",
    "                Q.decrease_key(neighbour, dist[current_node] + g.w(current_node, neighbour))\n",
    "                dist[neighbour] = dist[current_node] + g.w(current_node, neighbour)\n",
    "                paths[neighbour] = paths.get(current_node, []) + [neighbour]\n",
    "                \n",
    "    return dist, paths"
   ]
  },
  {
   "cell_type": "code",
   "execution_count": 66,
   "id": "e49a5ca9",
   "metadata": {},
   "outputs": [],
   "source": [
    "def generate_graph(num_nodes, density): \n",
    "    graph = DWG() \n",
    "    \n",
    "    for i in range(num_nodes): \n",
    "        graph.add_node(i) \n",
    "        \n",
    "    for i in range(num_nodes): \n",
    "        for j in range(num_nodes): \n",
    "            if i != j and random.random() < density: \n",
    "                weight = random.randint(1,50)\n",
    "                graph.add_edge(i, j, weight) \n",
    "    \n",
    "    return graph \n",
    "\n",
    "num_nodes = 270 \n",
    "density = 0.4 \n",
    "g = generate_graph(num_nodes, density)"
   ]
  },
  {
   "cell_type": "code",
   "execution_count": 68,
   "id": "57a56ce3",
   "metadata": {},
   "outputs": [],
   "source": [
    "distances, paths = dijkstra_nolimit(g, 0) \n",
    "full_paths = paths "
   ]
  },
  {
   "cell_type": "code",
   "execution_count": null,
   "id": "6a56bfa2",
   "metadata": {},
   "outputs": [],
   "source": []
  }
 ],
 "metadata": {
  "kernelspec": {
   "display_name": "Python 3 (ipykernel)",
   "language": "python",
   "name": "python3"
  },
  "language_info": {
   "codemirror_mode": {
    "name": "ipython",
    "version": 3
   },
   "file_extension": ".py",
   "mimetype": "text/x-python",
   "name": "python",
   "nbconvert_exporter": "python",
   "pygments_lexer": "ipython3",
   "version": "3.11.5"
  }
 },
 "nbformat": 4,
 "nbformat_minor": 5
}
