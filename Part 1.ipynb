{
 "cells": [
  {
   "cell_type": "markdown",
   "id": "9dd14fbe",
   "metadata": {},
   "source": [
    "**Part 1.1**: In this part you will implement variation of Dijkstra’s algorithm. It is a popular shortest path algorithm where the current known shortest path to each node is updated once new path is identified. This updating is called relaxing and in a graph with 𝑛 nodes it can occur at most 𝑛 − 1 times. In this part implement a function dijkstra (graph, source, k) which takes the graph and source as an input and where\n",
    "each node can be relaxed on only k times where, 0 < 𝑘 < 𝑁 − 1. This function returns a distance and path dictionary which maps a node (which is an integer) to the distance and the path (sequence of nodes)."
   ]
  },
  {
   "cell_type": "code",
   "execution_count": 54,
   "id": "1b134986",
   "metadata": {},
   "outputs": [],
   "source": [
    "import random\n",
    "import matplotlib.pyplot as plt"
   ]
  },
  {
   "cell_type": "code",
   "execution_count": 55,
   "id": "0e609b70",
   "metadata": {},
   "outputs": [],
   "source": [
    "# weighted digraph \n",
    "class DWG:\n",
    "\n",
    "    def __init__(self):\n",
    "        self.adj = {}\n",
    "        self.weights = {}\n",
    "\n",
    "    def are_connected(self, node1, node2):\n",
    "        for neighbour in self.adj[node1]:\n",
    "            if neighbour == node2:\n",
    "                return True\n",
    "        return False\n",
    "\n",
    "    def adjacent_nodes(self, node):\n",
    "        return self.adj[node]\n",
    "\n",
    "    def add_node(self, node):\n",
    "        self.adj[node] = []\n",
    "\n",
    "    def add_edge(self, node1, node2, weight):\n",
    "        if node2 not in self.adj[node1]:\n",
    "            self.adj[node1].append(node2)\n",
    "        self.weights[(node1, node2)] = weight\n",
    "\n",
    "    def w(self, node1, node2):\n",
    "        if self.are_connected(node1, node2):\n",
    "            return self.weights[(node1, node2)]\n",
    "\n",
    "    def num_nodes(self):\n",
    "        return len(self.adj)"
   ]
  },
  {
   "cell_type": "code",
   "execution_count": 56,
   "id": "97693377",
   "metadata": {},
   "outputs": [],
   "source": [
    "# min pq necessary for djisktra's \n",
    "class Item:\n",
    "    def __init__(self, value, key):\n",
    "        self.value = value\n",
    "        self.key = key\n",
    "\n",
    "class MinHeap:\n",
    "    def __init__(self, elements):\n",
    "        self.heap = elements\n",
    "        self.positions = {element.value: i for i, element in enumerate(elements)}\n",
    "        self.size = len(elements)\n",
    "        self.build_heap()\n",
    "\n",
    "    def parent(self, i):\n",
    "        return (i - 1) // 2\n",
    "\n",
    "    def left(self, i):\n",
    "        return 2 * i + 1\n",
    "\n",
    "    def right(self, i):\n",
    "        return 2 * i + 2\n",
    "\n",
    "    def swap(self, i, j):\n",
    "        self.heap[i], self.heap[j] = self.heap[j], self.heap[i]\n",
    "        self.positions[self.heap[i].value], self.positions[self.heap[j].value] = i, j\n",
    "\n",
    "    def min_heapify(self, i):\n",
    "        l = self.left(i)\n",
    "        r = self.right(i)\n",
    "        smallest = i\n",
    "        if l < self.size and self.heap[l].key < self.heap[i].key:\n",
    "            smallest = l\n",
    "        if r < self.size and self.heap[r].key < self.heap[smallest].key:\n",
    "            smallest = r\n",
    "        if smallest != i:\n",
    "            self.swap(i, smallest)\n",
    "            self.min_heapify(smallest)\n",
    "\n",
    "    def build_heap(self):\n",
    "        for i in range(self.size // 2, -1, -1):\n",
    "            self.min_heapify(i)\n",
    "\n",
    "    def extract_min(self):\n",
    "        min_element = self.heap[0]\n",
    "        self.size -= 1\n",
    "        self.heap[0] = self.heap[self.size]\n",
    "        self.positions[self.heap[0].value] = 0\n",
    "        self.heap.pop()\n",
    "        self.min_heapify(0)\n",
    "        return min_element\n",
    "\n",
    "    def decrease_key(self, value, new_key):\n",
    "        i = self.positions[value]\n",
    "        if new_key < self.heap[i].key:\n",
    "            self.heap[i].key = new_key\n",
    "            while i > 0 and self.heap[self.parent(i)].key > self.heap[i].key:\n",
    "                self.swap(i, self.parent(i))\n",
    "                i = self.parent(i)\n",
    "\n",
    "    def insert(self, element):\n",
    "        self.size += 1\n",
    "        self.heap.append(element)\n",
    "        self.positions[element.value] = self.size - 1\n",
    "        self.decrease_key(element.value, element.key)\n",
    "\n",
    "    def is_empty(self):\n",
    "        return self.size == 0"
   ]
  },
  {
   "cell_type": "code",
   "execution_count": 57,
   "id": "9ad8a02d",
   "metadata": {},
   "outputs": [],
   "source": [
    "def dijkstra(g, source, k):\n",
    "    paths = {source: [source]} \n",
    "    dist = {} \n",
    "    nodes = list(g.adj.keys())\n",
    "    relax_count = {} \n",
    "        \n",
    "    Q = MinHeap([])\n",
    "    \n",
    "    for i in g.adj.keys(): \n",
    "        relax_count[i] = 0 \n",
    "        \n",
    "    for node in nodes:\n",
    "        Q.insert(Item(node, float(\"inf\")))\n",
    "        dist[node] = float(\"inf\")\n",
    "        \n",
    "    Q.decrease_key(source, 0)\n",
    "    \n",
    "    while not Q.is_empty(): \n",
    "        current_element = Q.extract_min() \n",
    "        current_node = current_element.value\n",
    "        dist[current_node] = current_element.key \n",
    "        for neighbour in g.adj[current_node]:\n",
    "            if dist[current_node] + g.w(current_node, neighbour) < dist[neighbour] and relax_count[neighbour] < k:\n",
    "                Q.decrease_key(neighbour, dist[current_node] + g.w(current_node, neighbour))\n",
    "                dist[neighbour] = dist[current_node] + g.w(current_node, neighbour)\n",
    "                paths[neighbour] = paths.get(current_node, []) + [neighbour]\n",
    "                relax_count[neighbour] += 1 \n",
    "                \n",
    "    return dist, relax_count, paths"
   ]
  },
  {
   "cell_type": "code",
   "execution_count": 58,
   "id": "71b18109",
   "metadata": {},
   "outputs": [],
   "source": [
    "g = DWG() \n",
    "g.add_node(0)\n",
    "g.add_node(1)\n",
    "g.add_node(2)\n",
    "g.add_node(3) \n",
    "g.add_edge(0, 1, 4)\n",
    "g.add_edge(0, 2, 3)\n",
    "g.add_edge(1, 2, 1)\n",
    "g.add_edge(1, 3, 2)\n",
    "g.add_edge(2, 3, 5)"
   ]
  },
  {
   "cell_type": "code",
   "execution_count": 59,
   "id": "9ba09b04",
   "metadata": {},
   "outputs": [
    {
     "name": "stdout",
     "output_type": "stream",
     "text": [
      "{0: 0, 1: 4, 2: 3, 3: 6}\n",
      "{0: 0, 1: 1, 2: 1, 3: 2}\n",
      "{0: [0], 1: [0, 1], 2: [0, 2], 3: [0, 1, 3]}\n"
     ]
    }
   ],
   "source": [
    "source_node = 0\n",
    "k = 2 # Relax each nodes k = 2 times\n",
    "distances, relax_count, paths = dijkstra(g, source_node, k)\n",
    "print(distances)\n",
    "print(relax_count)\n",
    "print(paths) "
   ]
  },
  {
   "cell_type": "markdown",
   "id": "298181a4",
   "metadata": {},
   "source": [
    "**Part 1.2**: Consider the same restriction as previous and implement a variation of Bellman Ford’s algorithm. This means implement a function bellman_ford(graph, source, k) which take the graph and source as an input and finds the path where each node can be relaxed only k times, where, 0 < 𝑘 < 𝑁 − 1. This function also returns a distance and path dictionary which maps a node (which is an integer) to the distance and the path (sequence of nodes)."
   ]
  },
  {
   "cell_type": "code",
   "execution_count": 60,
   "id": "f09c3014",
   "metadata": {},
   "outputs": [],
   "source": [
    "def bf(g, source, k): \n",
    "    paths = {source: [source]} \n",
    "    dist = {} \n",
    "    nodes = list(g.adj.keys())\n",
    "    relax_count = {} \n",
    "    \n",
    "    for i in g.adj.keys(): \n",
    "        relax_count[i] = 0 \n",
    "    \n",
    "    for node in nodes: \n",
    "        dist[node] = float(\"inf\")\n",
    "        \n",
    "    dist[source] = 0 \n",
    "    \n",
    "    for _ in range(g.num_nodes() - 1):\n",
    "        for node in nodes: \n",
    "            for neighbour in g.adj[node]: \n",
    "                if relax_count[neighbour] < k and dist[neighbour] > dist[node] + g.w(node,neighbour):\n",
    "                    dist[neighbour] = dist[node] + g.w(node,neighbour) \n",
    "                    paths[neighbour] = paths.get(node, []) + [neighbour]\n",
    "                    relax_count[neighbour] += 1\n",
    "                                        \n",
    "    return dist, relax_count, paths"
   ]
  },
  {
   "cell_type": "code",
   "execution_count": 61,
   "id": "2d491c74",
   "metadata": {},
   "outputs": [
    {
     "name": "stdout",
     "output_type": "stream",
     "text": [
      "{0: 0, 1: 4, 2: 3, 3: 6}\n",
      "{0: [0], 1: [0, 1], 2: [0, 2], 3: [0, 1, 3]}\n",
      "{0: 0, 1: 1, 2: 1, 3: 1}\n"
     ]
    }
   ],
   "source": [
    "g1 = DWG() \n",
    "g1.add_node(0)\n",
    "g1.add_node(1)\n",
    "g1.add_node(2)\n",
    "g1.add_node(3) \n",
    "g1.add_edge(0, 1, 4)\n",
    "g1.add_edge(0, 2, 3)\n",
    "g1.add_edge(1, 2, 1)\n",
    "g1.add_edge(1, 3, 2)\n",
    "g1.add_edge(2, 3, 5)\n",
    "\n",
    "source_node = 0\n",
    "k = 1  # Relax each nodes k = 1 times\n",
    "distances, relax_count, paths = bf(g1, source_node, k)\n",
    "print(distances)\n",
    "print(paths) \n",
    "print(relax_count)"
   ]
  },
  {
   "cell_type": "markdown",
   "id": "27a66eb6",
   "metadata": {},
   "source": [
    "**Part 1.3**: Design an experiment to analyze the performance of functions written in Part 1.1 and 1.2. You should consider factors like graph size, graph density and value of k, that impact the algorithm performance in terms of its accuracy, time and space complexity."
   ]
  },
  {
   "cell_type": "markdown",
   "id": "200455e7",
   "metadata": {},
   "source": [
    "The proposed experiment will examine how many relaxations per node (k values) are needed to acquire a shortest path for both algorithms for both a graph. By comparing the number of relaxations per node for Dijkstra's and Bellman-Ford's variations, we can assess which algorithm performs better in terms of efficiency. We do this by measuring the **average** increase ratio; specifically, the increase ratio for each node represents the ratio between the distance computed by the algorithm and the actual shortest distance between two nodes in the graph. An increase ratio closer to 1.0  indicates that the algorithm produces paths closer to the actual shortest path, while a higher increase ratio suggests that the algorithm's paths deviate further from the true shortest path. Furthermore, an algorithm which converges to 1 faster as we increase the k value (i.e. max number of relaxations/node) is a more efficient algorithm in finding the shortest path."
   ]
  },
  {
   "cell_type": "markdown",
   "id": "d3536ebe",
   "metadata": {},
   "source": [
    "First, we will create a function to find the shortest path of a large graph without relaxation limits (i.e. using Dijkstra's algorithm with no relaxation limits). Then, we run the experiment with a graph that has 80 nodes, n(n-1) edges for full graph density for a weighted digraph. We increase the max number of relaxations per node (k) for both algorithms until the average increase ratio for both algorithms converge to 1 (i.e., both algorithms have achieved the true shortest path). "
   ]
  },
  {
   "cell_type": "markdown",
   "id": "8dfb7993",
   "metadata": {},
   "source": [
    "Our results show that Dijkstra's tends to have an increase ratio closer to 1.0 per iteration, showing it produces paths closer to the actual shortest path calculated per iteration. Furthermore, overall, Dijkstra's is more efficient in finding the true shortest path, converging to 1 with a lesser number of relaxations per node (k). "
   ]
  },
  {
   "cell_type": "code",
   "execution_count": 62,
   "id": "e8543cef",
   "metadata": {},
   "outputs": [],
   "source": [
    "def dijkstra_nolimit(g, source):\n",
    "    paths = {source: [source]} \n",
    "    dist = {} \n",
    "    nodes = list(g.adj.keys())\n",
    "    relax_count = {} \n",
    "        \n",
    "    Q = MinHeap([])\n",
    "    \n",
    "    for i in g.adj.keys(): \n",
    "        relax_count[i] = 0 \n",
    "        \n",
    "    for node in nodes:\n",
    "        Q.insert(Item(node, float(\"inf\")))\n",
    "        dist[node] = float(\"inf\")\n",
    "        \n",
    "    Q.decrease_key(source, 0)\n",
    "    \n",
    "    while not Q.is_empty(): \n",
    "        current_element = Q.extract_min() \n",
    "        current_node = current_element.value\n",
    "        dist[current_node] = current_element.key \n",
    "        for neighbour in g.adj[current_node]:\n",
    "            if dist[current_node] + g.w(current_node, neighbour) < dist[neighbour]:\n",
    "                Q.decrease_key(neighbour, dist[current_node] + g.w(current_node, neighbour))\n",
    "                dist[neighbour] = dist[current_node] + g.w(current_node, neighbour)\n",
    "                paths[neighbour] = paths.get(current_node, []) + [neighbour]\n",
    "                \n",
    "    return dist"
   ]
  },
  {
   "cell_type": "code",
   "execution_count": 82,
   "id": "e49a5ca9",
   "metadata": {},
   "outputs": [],
   "source": [
    "def generate_graph(graph, nodes, edges, max_weight): \n",
    "    added_nodes = set() # set to store (unique) added nodes \n",
    "    \n",
    "    for _ in range(nodes): \n",
    "        node = len(added_nodes) # Generate nodes starting from 0 \n",
    "        graph.add_node(node) \n",
    "        added_nodes.add(node) \n",
    "    \n",
    "    for _ in range(edges): \n",
    "        source = random.randint(0, nodes - 1)\n",
    "        target = random.randint(0, nodes - 1)\n",
    "        weight = random.randint(1, max_weight) # assume positive weights (for simplicity) \n",
    "        if source != target and not graph.are_connected(source, target): \n",
    "            graph.add_edge(source, target, weight) "
   ]
  },
  {
   "cell_type": "code",
   "execution_count": 80,
   "id": "6a56bfa2",
   "metadata": {},
   "outputs": [],
   "source": [
    "def run_experiment(graph_size, source_node, max_weight): \n",
    "    increase_ratios_dijkstra = [] # store increase factors for dijkstra \n",
    "    increase_ratios_bf = [] \n",
    "    k_values = [] \n",
    "    \n",
    "    g = DWG() \n",
    "    \n",
    "    num_edges = graph_size * (graph_size - 1) # completely connected digraph \n",
    "    generate_graph(g, graph_size, num_edges, max_weight)\n",
    "            \n",
    "    # generate random graph (v,e) with v nodes and e edges\n",
    "    g = DWG()\n",
    "    generate_graph(g, graph_size, num_edges, max_weight)\n",
    "        \n",
    "    # calculate actual shortest path distance (without relaxation limits)\n",
    "    actual_shortest_distances = dijkstra_nolimit(g, source_node)\n",
    "        \n",
    "    # vary relaxation limits \n",
    "    \n",
    "    k = 1 \n",
    "    \n",
    "    while True: \n",
    "        # find Dijkstra increase ratio \n",
    "        dist_dijkstra, _, _ = dijkstra(g, source_node, k)\n",
    "        dijkstra_increase_ratios = {node: dist_dijkstra[node] / actual_shortest_distances[node] for node in g.adj.keys() if actual_shortest_distances[node] != 0}\n",
    "        increase_ratios_dijkstra.append(sum(dijkstra_increase_ratios.values()) / len(dijkstra_increase_ratios)) \n",
    "            \n",
    "        # find Bellman-Ford increase ratios \n",
    "        dist_bf, _, _ = bf(g, source_node, k) \n",
    "        bf_increase_ratios = {node: dist_bf[node] / actual_shortest_distances[node] for node in g.adj.keys() if actual_shortest_distances[node] != 0}\n",
    "        increase_ratios_bf.append(sum(bf_increase_ratios.values()) / len(bf_increase_ratios))\n",
    "            \n",
    "        # record value of k \n",
    "        k_values.append(k) \n",
    "        \n",
    "        # if reached shortest for both algorithms, stop \n",
    "        if all(dist_dijkstra[node] == actual_shortest_distances[node] for node in g.adj.keys()) and \\\n",
    "                all(dist_bf[node] == actual_shortest_distances[node] for node in g.adj.keys()):\n",
    "            break\n",
    "            \n",
    "        # otherwise, increase k (number of relaxations) for next iteration\n",
    "        k += 1\n",
    "    \n",
    "    return k_values, increase_ratios_dijkstra, increase_ratios_bf "
   ]
  },
  {
   "cell_type": "code",
   "execution_count": 81,
   "id": "1147b597",
   "metadata": {},
   "outputs": [
    {
     "data": {
      "image/png": "[encoded data removed]",
      "text/plain": [
       "<Figure size 640x480 with 1 Axes>"
      ]
     },
     "metadata": {},
     "output_type": "display_data"
    }
   ],
   "source": [
    "graph_size = 80 \n",
    "source_node = 0 \n",
    "max_weight = 50 \n",
    "\n",
    "k_values, increase_ratios_dijkstra, increase_ratios_bf = run_experiment(graph_size, source_node, max_weight)\n",
    "\n",
    "# Plot the results\n",
    "plt.plot(k_values, increase_ratios_dijkstra, label=\"Dijkstra\")\n",
    "plt.plot(k_values, increase_ratios_bf, label=\"Bellman-Ford\")\n",
    "plt.xlabel(\"Number of Relaxations (k)\")\n",
    "plt.ylabel(\"Increase Ratio of Approximate/Actual Shortest Path\")\n",
    "plt.title(\"Increase Ratio vs. Number of Relaxations (k)\")\n",
    "plt.legend()\n",
    "plt.grid(True)\n",
    "plt.show()"
   ]
  }
 ],
 "metadata": {
  "kernelspec": {
   "display_name": "Python 3 (ipykernel)",
   "language": "python",
   "name": "python3"
  },
  "language_info": {
   "codemirror_mode": {
    "name": "ipython",
    "version": 3
   },
   "file_extension": ".py",
   "mimetype": "text/x-python",
   "name": "python",
   "nbconvert_exporter": "python",
   "pygments_lexer": "ipython3",
   "version": "3.11.5"
  }
 },
 "nbformat": 4,
 "nbformat_minor": 5
}
