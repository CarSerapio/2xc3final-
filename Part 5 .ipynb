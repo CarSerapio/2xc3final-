{
 "cells": [
  {
   "cell_type": "markdown",
   "id": "94b0c04f",
   "metadata": {},
   "source": [
    "Organize you code as per the below Unified Modelling Language (UML) diagram in Figure 2. Furthermore, consider the points listed below and discuss these points in a section labelled Part 4 in your report (where appropriate). \n",
    "\n",
    "* Instead of re-writing A* algorithm for this part, treat the class from UML as an “adapter”. \n",
    "* Discuss what design principles and patterns are being used in the diagram\n",
    "* The UML is limited in the sense that graph nodes are represented by the integers. How would you alter the UML diagram to accommodate various needs such as nodes being represented Strings or carrying more information than their names.? Explain how you would change the design in Figure 2 to be robust to these potential changes.\n",
    "* Discuss what other types of graphs we could have implement “Graph”. What other implementations exist?"
   ]
  },
  {
   "cell_type": "code",
   "execution_count": 1,
   "id": "f4eff39f",
   "metadata": {},
   "outputs": [],
   "source": [
    "class DirectedWeightedGraph:\n",
    "\n",
    "    def __init__(self):\n",
    "        self.adj = {}\n",
    "        self.weights = {}\n",
    "\n",
    "    def are_connected(self, node1, node2):\n",
    "        for neighbour in self.adj[node1]:\n",
    "            if neighbour == node2:\n",
    "                return True\n",
    "        return False\n",
    "\n",
    "    def adjacent_nodes(self, node):\n",
    "        return self.adj[node]\n",
    "\n",
    "    def add_node(self, node):\n",
    "        self.adj[node] = []\n",
    "\n",
    "    def add_edge(self, node1, node2, weight):\n",
    "        if node2 not in self.adj[node1]:\n",
    "            self.adj[node1].append(node2)\n",
    "        self.weights[(node1, node2)] = weight\n",
    "\n",
    "    def w(self, node1, node2):\n",
    "        if self.are_connected(node1, node2):\n",
    "            return self.weights[(node1, node2)]\n",
    "\n",
    "    def number_of_nodes(self):\n",
    "        return len(self.adj)"
   ]
  },
  {
   "cell_type": "code",
   "execution_count": null,
   "id": "421728c7",
   "metadata": {},
   "outputs": [],
   "source": [
    "class ShortPathFinder:\n",
    "\n",
    "    def __init__(self):\n",
    "        self.Graph = Graph()\n",
    "        self.SPAlgorithm = SPAlgorithm()\n",
    "\n",
    "    def calc_short_path(self, source, dest):\n",
    "        dist = self.SPAlgorithm(self.Graph, source, dest)\n",
    "        total = 0\n",
    "        for key in dist.keys():\n",
    "            total += dist[key]\n",
    "        return total\n",
    "\n",
    "    @property\n",
    "    def set_graph(self):\n",
    "        self._Graph\n",
    "\n",
    "    @set_graph.setter\n",
    "    def set_graph(self, graph):\n",
    "        self._Graph = graph\n",
    "\n",
    "    @property\n",
    "    def set_algorithm(self,):\n",
    "        self._SPAlgorithm\n",
    "    \n",
    "    @set_algorithm.setter\n",
    "    def set_algorithm(self, algorithm):\n",
    "        self._SPAlgorithm = algorithm"
   ]
  },
  {
   "cell_type": "code",
   "execution_count": null,
   "id": "139cef77",
   "metadata": {},
   "outputs": [],
   "source": [
    "class SPAlgorithm():\n",
    "\n",
    "    @abstractmethod\n",
    "    def calc_sp(self, g: DirectedWeightedGraph, source: int, k: int):\n",
    "        pass\n",
    "    \n",
    "class Adapter(SPAlgorithm):\n",
    "\n",
    "    def __init__(self):\n",
    "        pass\n",
    "    \n",
    "    def a_star(self):\n",
    "        pass"
   ]
  }
 ],
 "metadata": {
  "kernelspec": {
   "display_name": "Python 3 (ipykernel)",
   "language": "python",
   "name": "python3"
  },
  "language_info": {
   "codemirror_mode": {
    "name": "ipython",
    "version": 3
   },
   "file_extension": ".py",
   "mimetype": "text/x-python",
   "name": "python",
   "nbconvert_exporter": "python",
   "pygments_lexer": "ipython3",
   "version": "3.11.5"
  }
 },
 "nbformat": 4,
 "nbformat_minor": 5
}
